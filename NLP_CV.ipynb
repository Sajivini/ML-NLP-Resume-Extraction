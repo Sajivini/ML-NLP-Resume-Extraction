{
  "nbformat": 4,
  "nbformat_minor": 0,
  "metadata": {
    "colab": {
      "name": "NLP-CV.ipynb",
      "provenance": [],
      "collapsed_sections": []
    },
    "kernelspec": {
      "name": "python3",
      "display_name": "Python 3"
    },
    "language_info": {
      "name": "python"
    }
  },
  "cells": [
    {
      "cell_type": "code",
      "metadata": {
        "colab": {
          "base_uri": "https://localhost:8080/"
        },
        "id": "qx568Wdhngyv",
        "outputId": "b2d5dd2e-004a-4fc0-fb91-7f384c6e416f"
      },
      "source": [
        "!pip install PyPDF2\n"
      ],
      "execution_count": null,
      "outputs": [
        {
          "output_type": "stream",
          "name": "stdout",
          "text": [
            "Collecting PyPDF2\n",
            "  Downloading PyPDF2-1.26.0.tar.gz (77 kB)\n",
            "\u001b[?25l\r\u001b[K     |████▎                           | 10 kB 25.0 MB/s eta 0:00:01\r\u001b[K     |████████▌                       | 20 kB 20.7 MB/s eta 0:00:01\r\u001b[K     |████████████▊                   | 30 kB 23.4 MB/s eta 0:00:01\r\u001b[K     |█████████████████               | 40 kB 27.0 MB/s eta 0:00:01\r\u001b[K     |█████████████████████▏          | 51 kB 30.1 MB/s eta 0:00:01\r\u001b[K     |█████████████████████████▍      | 61 kB 32.5 MB/s eta 0:00:01\r\u001b[K     |█████████████████████████████▋  | 71 kB 34.7 MB/s eta 0:00:01\r\u001b[K     |████████████████████████████████| 77 kB 6.4 MB/s \n",
            "\u001b[?25hBuilding wheels for collected packages: PyPDF2\n",
            "  Building wheel for PyPDF2 (setup.py) ... \u001b[?25l\u001b[?25hdone\n",
            "  Created wheel for PyPDF2: filename=PyPDF2-1.26.0-py3-none-any.whl size=61101 sha256=a91a3c7c0545ddd6b97ec44ee9f6101d3cfa92c323ec9be001ef1edf67933561\n",
            "  Stored in directory: /root/.cache/pip/wheels/80/1a/24/648467ade3a77ed20f35cfd2badd32134e96dd25ca811e64b3\n",
            "Successfully built PyPDF2\n",
            "Installing collected packages: PyPDF2\n",
            "Successfully installed PyPDF2-1.26.0\n"
          ]
        }
      ]
    },
    {
      "cell_type": "code",
      "metadata": {
        "colab": {
          "base_uri": "https://localhost:8080/"
        },
        "id": "CIRKv-iku0YY",
        "outputId": "1ecfa2f5-b7b2-4a9a-d2fc-bd8e5a10851d"
      },
      "source": [
        "import PyPDF2\n",
        "from PyPDF2 import PdfFileReader, PdfFileWriter\n",
        "import pandas as pd\n",
        "\n",
        "# Propmt user to input file path \n",
        "file_path = input(\"Enter the file path :\")    \n",
        "# reading the file\n",
        "pdf = PdfFileReader(file_path)\n",
        "\n",
        "# prompt user to input name to save the file \n",
        "filename = input(\"Enter file name to save :\")\n",
        "\n",
        "\n",
        "with open(filename, 'w') as f:\n",
        "  # creating a loop to identify the page numbers \n",
        "  for page_num in range(pdf.numPages):\n",
        "    print('Pages: {0}'.format(page_num))\n",
        "    pageObj = pdf.getPage(page_num)\n",
        "\n",
        "    try:\n",
        "      txt = pageObj.extractText() \n",
        "      print(''.center(100, '-'))\n",
        "    \n",
        "    except:\n",
        "      pass\n",
        "    else:\n",
        "      # write in the text file \n",
        "      f.write('page {}\\n'.format(page_num+1))\n",
        "      f.write(''.center(100, '-') )\n",
        "      f.write(txt)\n",
        "  f.close\n",
        "  "
      ],
      "execution_count": null,
      "outputs": [
        {
          "output_type": "stream",
          "name": "stdout",
          "text": [
            "Enter the file path :/content/SajiviniCV.pdf\n",
            "Enter file name to save :CV.txt\n",
            "Pages: 0\n",
            "----------------------------------------------------------------------------------------------------\n"
          ]
        }
      ]
    },
    {
      "cell_type": "code",
      "metadata": {
        "colab": {
          "base_uri": "https://localhost:8080/"
        },
        "id": "L3GAh9-8OY1h",
        "outputId": "53b11568-6895-43ff-b6f4-8161687bad17"
      },
      "source": [
        "import logging\n",
        "# removing empty/white space in the text \n",
        "# creating a empty list\n",
        "data = []\n",
        "clean_data = []\n",
        "clean_data_1 = []\n",
        "\n",
        "with open(filename) as fname:\n",
        "        data=fname.readlines() # reading the file \n",
        "        for x in data:\n",
        "            x.strip()\n",
        "            val=x.strip() \n",
        "            clean_data.append(val)\n",
        "            clean_data_1=list(filter(''.__ne__,clean_data))\n",
        "\n",
        "        print(clean_data_1)\n",
        "\n"
      ],
      "execution_count": null,
      "outputs": [
        {
          "output_type": "stream",
          "name": "stdout",
          "text": [
            "['page 1', '----------------------------------------------------------------------------------------------------', 'Contact', 'Phone:', '0774998116', 'Email:', 'Sajivini.n@gmail.com', 'LinkedIn:', 'https://www.linkedin.com/in/sajivini', '-', 'nagendran', '-', '0a09141a9', 'Address:', 'No.02, Iyyasaamy Street,', 'Shakthipuram ,Kotagala,', 'Hatton.', 'Accomplishments', 'o', 'Participated in GamJam 2020', 'o', 'Participated in Hackathon Dev', 'IT Skills', 'Java', ',', 'Node JS', ',', 'React Js', ',', 'C#', ',', 'HTML', ',', 'CSS', ',', 'Bootstrap', ',', 'JavaScript', ',', 'PHP', ',', 'Git', ',', 'Python', ',', 'P', 'owerBi', ',', 'MySQ', 'L,', 'MongoDB', ',', 'Fireba', 'se', ',', 'Django', 'S', 'oftware and Apps', 'Visual Studio', 'Code, JetBrains', 'development', 'Environment, Microsoft', 'office Applications', 'GitHub, Jira', ',', 'Trello', ',', 'Jyp', 'y', 'ter Notebook', 'Refrees', 'Dr.Thashika Ruphasinghe', 'Ph.D in Industrial Enginnering', 'Artificical Intelligence', ',', 'G', 'M', 'at MAS', '0716522438', 'Mr.Ramachandran', 'Lecturer', 'Sripada National College of education,', 'Patana', '0713766665', 'SAJIVINI NAGENDRAN', 'About', 'An energetic, confident and experience individual with a keen eye to', 'develop software. Well', '-', 'versed in numerous', 'programming languages', 'including Java, OOP, HTML, CSS, JavaScript and Node.js. Involved in', 'interdisciplinary education. Adept at Software Development, Data', 'Analyzing and machine Learning.', 'Working Experience', 'Internship', 'Software Engineer', ': 02/2021', 'Currently working', 'MAS', 'o', 'Using VBA, Power Apps, Power Bi developed application to', 'clients.', 'o', 'Analyzing data with Machine Learning and power Bi.', 'o', 'IOT device development for meal counting in plant using python.', 'o', 'IOT dashboard with JavaScript, HTML, CSS, Re', 'st API.', 'Projects', 'Second Year: Web Application for Argo', '-', 'met weather prediction for', 'farmers. (Python', '-', 'for Machine learning, ReactJS, Firebase, Django).', 'Second Year: Football League Web application (Java, Angular, Spring', 'Boot, MongoDB)', 'First Year:', 'Sports web application (HTML, CSS, JS).', 'First Year: Inventory System (Java, JavaFX, OOP, MongoDB).', 'First Year: Application for Financial calculator (Java, OOP, SQL).', 'Education', 'BSc (Hon) Computer Science', ':', '20', '20', '2025', 'University of Westminster (IIT Ramakr', 'ishna Rd, Colombo)', 'Diploma in Information Technology:', '2018', '2019', 'ESoft Metro Campus', 'Primary and Secondary Education,', '2014 O/L results of 7As B and C', '2018 A/L results of 2Cs and S', 'Highlands Central', 'College,', 'Hatton.']\n"
          ]
        }
      ]
    },
    {
      "cell_type": "code",
      "metadata": {
        "id": "7FzzdsPT_UAJ",
        "colab": {
          "base_uri": "https://localhost:8080/"
        },
        "outputId": "713a3edc-40eb-4d85-be48-294fcb937268"
      },
      "source": [
        "import nltk\n",
        "nltk.download('punkt')"
      ],
      "execution_count": null,
      "outputs": [
        {
          "output_type": "stream",
          "name": "stdout",
          "text": [
            "[nltk_data] Downloading package punkt to /root/nltk_data...\n",
            "[nltk_data]   Unzipping tokenizers/punkt.zip.\n"
          ]
        },
        {
          "output_type": "execute_result",
          "data": {
            "text/plain": [
              "True"
            ]
          },
          "metadata": {},
          "execution_count": 9
        }
      ]
    },
    {
      "cell_type": "code",
      "metadata": {
        "id": "NTwyVuGmvIxq",
        "colab": {
          "base_uri": "https://localhost:8080/"
        },
        "outputId": "83e629e7-63b6-44eb-e1b6-2dca780e9acc"
      },
      "source": [
        "# sentence tokenization \n",
        "from nltk.tokenize import sent_tokenize\n",
        "sent_token = [sent_tokenize(txt) for txt in clean_data_1]\n",
        "print(sent_token)"
      ],
      "execution_count": null,
      "outputs": [
        {
          "output_type": "stream",
          "name": "stdout",
          "text": [
            "[['page 1'], ['----------------------------------------------------------------------------------------------------'], ['Contact'], ['Phone:'], ['0774998116'], ['Email:'], ['Sajivini.n@gmail.com'], ['LinkedIn:'], ['https://www.linkedin.com/in/sajivini'], ['-'], ['nagendran'], ['-'], ['0a09141a9'], ['Address:'], ['No.02, Iyyasaamy Street,'], ['Shakthipuram ,Kotagala,'], ['Hatton.'], ['Accomplishments'], ['o'], ['Participated in GamJam 2020'], ['o'], ['Participated in Hackathon Dev'], ['IT Skills'], ['Java'], [','], ['Node JS'], [','], ['React Js'], [','], ['C#'], [','], ['HTML'], [','], ['CSS'], [','], ['Bootstrap'], [','], ['JavaScript'], [','], ['PHP'], [','], ['Git'], [','], ['Python'], [','], ['P'], ['owerBi'], [','], ['MySQ'], ['L,'], ['MongoDB'], [','], ['Fireba'], ['se'], [','], ['Django'], ['S'], ['oftware and Apps'], ['Visual Studio'], ['Code, JetBrains'], ['development'], ['Environment, Microsoft'], ['office Applications'], ['GitHub, Jira'], [','], ['Trello'], [','], ['Jyp'], ['y'], ['ter Notebook'], ['Refrees'], ['Dr.Thashika Ruphasinghe'], ['Ph.D in Industrial Enginnering'], ['Artificical Intelligence'], [','], ['G'], ['M'], ['at MAS'], ['0716522438'], ['Mr.Ramachandran'], ['Lecturer'], ['Sripada National College of education,'], ['Patana'], ['0713766665'], ['SAJIVINI NAGENDRAN'], ['About'], ['An energetic, confident and experience individual with a keen eye to'], ['develop software.', 'Well'], ['-'], ['versed in numerous'], ['programming languages'], ['including Java, OOP, HTML, CSS, JavaScript and Node.js.', 'Involved in'], ['interdisciplinary education.', 'Adept at Software Development, Data'], ['Analyzing and machine Learning.'], ['Working Experience'], ['Internship'], ['Software Engineer'], [': 02/2021'], ['Currently working'], ['MAS'], ['o'], ['Using VBA, Power Apps, Power Bi developed application to'], ['clients.'], ['o'], ['Analyzing data with Machine Learning and power Bi.'], ['o'], ['IOT device development for meal counting in plant using python.'], ['o'], ['IOT dashboard with JavaScript, HTML, CSS, Re'], ['st API.'], ['Projects'], ['Second Year: Web Application for Argo'], ['-'], ['met weather prediction for'], ['farmers.', '(Python'], ['-'], ['for Machine learning, ReactJS, Firebase, Django).'], ['Second Year: Football League Web application (Java, Angular, Spring'], ['Boot, MongoDB)'], ['First Year:'], ['Sports web application (HTML, CSS, JS).'], ['First Year: Inventory System (Java, JavaFX, OOP, MongoDB).'], ['First Year: Application for Financial calculator (Java, OOP, SQL).'], ['Education'], ['BSc (Hon) Computer Science'], [':'], ['20'], ['20'], ['2025'], ['University of Westminster (IIT Ramakr'], ['ishna Rd, Colombo)'], ['Diploma in Information Technology:'], ['2018'], ['2019'], ['ESoft Metro Campus'], ['Primary and Secondary Education,'], ['2014 O/L results of 7As B and C'], ['2018 A/L results of 2Cs and S'], ['Highlands Central'], ['College,'], ['Hatton.']]\n"
          ]
        }
      ]
    },
    {
      "cell_type": "code",
      "metadata": {
        "id": "4Sp2u06d-6Xw"
      },
      "source": [
        "# using a trained data set to extract data\n",
        "import spacy\n",
        "import pickle\n",
        "import random\n"
      ],
      "execution_count": 6,
      "outputs": []
    },
    {
      "cell_type": "code",
      "metadata": {
        "id": "nlV1Ri4lCKrk"
      },
      "source": [
        "train_data = pickle.load(open('/train_data.pkl','rb'))\n"
      ],
      "execution_count": 9,
      "outputs": []
    },
    {
      "cell_type": "code",
      "metadata": {
        "colab": {
          "base_uri": "https://localhost:8080/"
        },
        "id": "JEq98S5UDO9v",
        "outputId": "c63d2b4c-5f70-475f-d8ec-5fc937ed9b2a"
      },
      "source": [
        "train_data[0]"
      ],
      "execution_count": 12,
      "outputs": [
        {
          "output_type": "execute_result",
          "data": {
            "text/plain": [
              "('Govardhana K Senior Software Engineer  Bengaluru, Karnataka, Karnataka - Email me on Indeed: indeed.com/r/Govardhana-K/ b2de315d95905b68  Total IT experience 5 Years 6 Months Cloud Lending Solutions INC 4 Month • Salesforce Developer Oracle 5 Years 2 Month • Core Java Developer Languages Core Java, Go Lang Oracle PL-SQL programming, Sales Force Developer with APEX.  Designations & Promotions  Willing to relocate: Anywhere  WORK EXPERIENCE  Senior Software Engineer  Cloud Lending Solutions -  Bangalore, Karnataka -  January 2018 to Present  Present  Senior Consultant  Oracle -  Bangalore, Karnataka -  November 2016 to December 2017  Staff Consultant  Oracle -  Bangalore, Karnataka -  January 2014 to October 2016  Associate Consultant  Oracle -  Bangalore, Karnataka -  November 2012 to December 2013  EDUCATION  B.E in Computer Science Engineering  Adithya Institute of Technology -  Tamil Nadu  September 2008 to June 2012  https://www.indeed.com/r/Govardhana-K/b2de315d95905b68?isid=rex-download&ikw=download-top&co=IN https://www.indeed.com/r/Govardhana-K/b2de315d95905b68?isid=rex-download&ikw=download-top&co=IN   SKILLS  APEX. (Less than 1 year), Data Structures (3 years), FLEXCUBE (5 years), Oracle (5 years), Algorithms (3 years)  LINKS  https://www.linkedin.com/in/govardhana-k-61024944/  ADDITIONAL INFORMATION  Technical Proficiency:  Languages: Core Java, Go Lang, Data Structures & Algorithms, Oracle PL-SQL programming, Sales Force with APEX. Tools: RADTool, Jdeveloper, NetBeans, Eclipse, SQL developer, PL/SQL Developer, WinSCP, Putty Web Technologies: JavaScript, XML, HTML, Webservice  Operating Systems: Linux, Windows Version control system SVN & Git-Hub Databases: Oracle Middleware: Web logic, OC4J Product FLEXCUBE: Oracle FLEXCUBE Versions 10.x, 11.x and 12.x  https://www.linkedin.com/in/govardhana-k-61024944/',\n",
              " {'entities': [(1749, 1755, 'Companies worked at'),\n",
              "   (1696, 1702, 'Companies worked at'),\n",
              "   (1417, 1423, 'Companies worked at'),\n",
              "   (1356, 1793, 'Skills'),\n",
              "   (1209, 1215, 'Companies worked at'),\n",
              "   (1136, 1248, 'Skills'),\n",
              "   (928, 932, 'Graduation Year'),\n",
              "   (858, 889, 'College Name'),\n",
              "   (821, 856, 'Degree'),\n",
              "   (787, 791, 'Graduation Year'),\n",
              "   (744, 750, 'Companies worked at'),\n",
              "   (722, 742, 'Designation'),\n",
              "   (658, 664, 'Companies worked at'),\n",
              "   (640, 656, 'Designation'),\n",
              "   (574, 580, 'Companies worked at'),\n",
              "   (555, 573, 'Designation'),\n",
              "   (470, 493, 'Companies worked at'),\n",
              "   (444, 469, 'Designation'),\n",
              "   (308, 314, 'Companies worked at'),\n",
              "   (234, 240, 'Companies worked at'),\n",
              "   (175, 198, 'Companies worked at'),\n",
              "   (93, 137, 'Email Address'),\n",
              "   (39, 48, 'Location'),\n",
              "   (13, 38, 'Designation'),\n",
              "   (0, 12, 'Name')]})"
            ]
          },
          "metadata": {},
          "execution_count": 12
        }
      ]
    },
    {
      "cell_type": "code",
      "metadata": {
        "id": "sfwhwl08DdVl"
      },
      "source": [
        "nlp = spacy.blank('en') #loading english  the model \n",
        "\n",
        "def train_model(train_data):\n",
        "  if 'ner' not in nlp.pipe_names:    #ner = named entity recognition model\n",
        "    ner = nlp.create_pipe('ner')\n",
        "    nlp.add_pipe(ner, last = True) \n",
        "\n",
        "\n",
        "    for _ , annotation in train_data:\n",
        "      for ent in annotation['entities']:\n",
        "        ner.add_label(ent[2])\n",
        "\n",
        "    other_pipes = [pipe for pipe in nlp.pipe_names if pipe != 'ner']\n",
        "    with nlp.disable_pipes(*other_pipes):\n",
        "      optimizer = nlp.begin_training()\n",
        "      for itn in range(10):                                    #training for 10 iterations \n",
        "        print(\"starting iteration \" + str(itn))\n",
        "        random.shuffle(train_data)    #shuffling the training data in every iterations \n",
        "        losses = {}\n",
        "        index = 0\n",
        "        for text, annotations in train_data:  #reading the trained data\n",
        "          try:\n",
        "            nlp.update(\n",
        "                [text], \n",
        "                [annotations],\n",
        "                drop= 0.2, # dropout - make it harder to remember it \n",
        "                sgd= optimizer,  # callable to update weight\n",
        "                losses= losses)\n",
        "          except Exception as e:\n",
        "            pass\n",
        "\n",
        "\n",
        "        print(losses)\n",
        "       \n",
        "\n",
        "\n"
      ],
      "execution_count": 25,
      "outputs": []
    },
    {
      "cell_type": "code",
      "metadata": {
        "colab": {
          "base_uri": "https://localhost:8080/"
        },
        "id": "Bx86svntKHht",
        "outputId": "2287815d-7ef3-4d70-b581-9e4112ac9a6d"
      },
      "source": [
        "train_model(train_data)"
      ],
      "execution_count": 26,
      "outputs": [
        {
          "output_type": "stream",
          "name": "stdout",
          "text": [
            "starting iteration0\n",
            "{'ner': 12832.87971937723}\n",
            "starting iteration1\n",
            "{'ner': 12383.46273773585}\n",
            "starting iteration2\n",
            "{'ner': 13985.831020352298}\n",
            "starting iteration3\n",
            "{'ner': 9428.523717451137}\n",
            "starting iteration4\n",
            "{'ner': 7578.837900781618}\n",
            "starting iteration5\n",
            "{'ner': 7648.640003162823}\n",
            "starting iteration6\n",
            "{'ner': 6234.434480763576}\n",
            "starting iteration7\n",
            "{'ner': 5491.747415727111}\n",
            "starting iteration8\n",
            "{'ner': 5608.756485366244}\n",
            "starting iteration9\n",
            "{'ner': 4879.395706744228}\n"
          ]
        }
      ]
    },
    {
      "cell_type": "code",
      "metadata": {
        "id": "5qROKWiILn6T"
      },
      "source": [
        "nlp.to_disk('nlp_model') \n"
      ],
      "execution_count": 33,
      "outputs": []
    },
    {
      "cell_type": "code",
      "metadata": {
        "id": "fr41o-B7P1qq"
      },
      "source": [
        "nlp.model = spacy.load('nlp_model')"
      ],
      "execution_count": 34,
      "outputs": []
    },
    {
      "cell_type": "code",
      "metadata": {
        "colab": {
          "base_uri": "https://localhost:8080/",
          "height": 244
        },
        "id": "3iTesF8YP--5",
        "outputId": "b2b7715c-2c5f-4aa1-e84e-594b0a910916"
      },
      "source": [
        "train_data[0][0]"
      ],
      "execution_count": 49,
      "outputs": [
        {
          "output_type": "execute_result",
          "data": {
            "application/vnd.google.colaboratory.intrinsic+json": {
              "type": "string"
            },
            "text/plain": [
              "'Siddharth Choudhary Microsoft Office Suite - Expert  Hyderabad, Telangana - Email me on Indeed: indeed.com/r/Siddharth- Choudhary/19d56a964e37fa1a  Goal oriented finance professional with a great aptitude to learn. Dedicated to CONTACT meeting aggressive/challenging business goals. Logically strong with good knowledge in financial management, tax, audit, and computers. choudharysiddharth22@gmail.com  During my training/articleship period, I have learnt how to analyse business […] […] cycles/operations and conduct risk analysis and further audit procedures www.linkedin.com/in/Sid- based on the risk analysis. Choudhary  WORK EXPERIENCE  Microsoft Office Suite - Expert  Tally ERP - Intermediate SQL, Chartered -  2013 to 2017  ICAI 464/800 Accountancy  EDUCATION  Score  SKILLS  AUDITING (Less than 1 year), CFA (Less than 1 year), DERIVATIVES (Less than 1 year), FINANCIAL ANALYST (Less than 1 year), FINANCIAL STATEMENT ANALYSIS (Less than 1 year)  ADDITIONAL INFORMATION  CORE COMPETENCIES  212, Shri Gayathri Elegant, Karkhana, Sec-bad. Portfolio management strategies Auditing (Statutory) Derivatives and Swaps Financial statement analysis Consolidation Ratio/Trend Analysis  COMPUTER SKILLS 2017- Chartered Level 1 - CFA (US)  https://www.indeed.com/r/Siddharth-Choudhary/19d56a964e37fa1a?isid=rex-download&ikw=download-top&co=IN https://www.indeed.com/r/Siddharth-Choudhary/19d56a964e37fa1a?isid=rex-download&ikw=download-top&co=IN   Present Financial Analyst Cleared'"
            ]
          },
          "metadata": {},
          "execution_count": 49
        }
      ]
    },
    {
      "cell_type": "code",
      "metadata": {
        "colab": {
          "base_uri": "https://localhost:8080/"
        },
        "id": "ydr7q_ebQQqu",
        "outputId": "7e447673-a53d-4266-8cf5-7865516e9377"
      },
      "source": [
        "doc = nlp.model(train_data[0][0])\n",
        "for ent in doc.ents:\n",
        "  print(f'{ent.label_.upper():{30}}- {ent.text}')"
      ],
      "execution_count": 48,
      "outputs": [
        {
          "output_type": "stream",
          "name": "stdout",
          "text": [
            "NAME                          - Siddharth Choudhary\n",
            "DESIGNATION                   - Microsoft Office Suite - Expert\n",
            "LOCATION                      - Hyderabad\n",
            "EMAIL ADDRESS                 - indeed.com/r/Siddharth- Choudhary/19d56a964e37fa1a\n",
            "DESIGNATION                   - Microsoft Office Suite - Expert\n",
            "SKILLS                        - AUDITING (Less than 1 year), CFA (Less than 1 year), DERIVATIVES (Less than 1 year), FINANCIAL ANALYST (Less than 1 year), FINANCIAL STATEMENT ANALYSIS (Less than 1 year)  ADDITIONAL INFORMATION  CORE COMPETENCIES\n"
          ]
        }
      ]
    },
    {
      "cell_type": "code",
      "metadata": {
        "id": "Lzsy5pRzU4_i"
      },
      "source": [
        "pattern = [{\"ORTH\": \"(\"}, {\"SHAPE\": \"ddd\"}, {\"ORTH\": \")\"}, {\"SHAPE\": \"dddd\"}, {\"ORTH\": \"-\", \"OP\": \"?\"}, {\"SHAPE\": \"dddd\"} ]"
      ],
      "execution_count": 50,
      "outputs": []
    },
    {
      "cell_type": "code",
      "metadata": {
        "colab": {
          "base_uri": "https://localhost:8080/",
          "height": 1000
        },
        "id": "jMGhMTxmZlw_",
        "outputId": "53739ba6-bdc7-4a94-c297-1a398feb40ad"
      },
      "source": [
        "!pip install -U spacy\n",
        "!pip install -U spacy-lookups-data\n",
        "!python -m spacy download en_core_web_sm"
      ],
      "execution_count": 57,
      "outputs": [
        {
          "output_type": "stream",
          "name": "stdout",
          "text": [
            "Requirement already satisfied: spacy in /usr/local/lib/python3.7/dist-packages (2.2.4)\n",
            "Collecting spacy\n",
            "  Downloading spacy-3.1.3-cp37-cp37m-manylinux_2_17_x86_64.manylinux2014_x86_64.whl (5.9 MB)\n",
            "\u001b[K     |████████████████████████████████| 5.9 MB 6.9 MB/s \n",
            "\u001b[?25hRequirement already satisfied: cymem<2.1.0,>=2.0.2 in /usr/local/lib/python3.7/dist-packages (from spacy) (2.0.5)\n",
            "Collecting srsly<3.0.0,>=2.4.1\n",
            "  Downloading srsly-2.4.1-cp37-cp37m-manylinux2014_x86_64.whl (456 kB)\n",
            "\u001b[K     |████████████████████████████████| 456 kB 60.1 MB/s \n",
            "\u001b[?25hRequirement already satisfied: preshed<3.1.0,>=3.0.2 in /usr/local/lib/python3.7/dist-packages (from spacy) (3.0.5)\n",
            "Collecting pathy>=0.3.5\n",
            "  Downloading pathy-0.6.0-py3-none-any.whl (42 kB)\n",
            "\u001b[K     |████████████████████████████████| 42 kB 1.4 MB/s \n",
            "\u001b[?25hCollecting typer<0.5.0,>=0.3.0\n",
            "  Downloading typer-0.4.0-py3-none-any.whl (27 kB)\n",
            "Collecting catalogue<2.1.0,>=2.0.6\n",
            "  Downloading catalogue-2.0.6-py3-none-any.whl (17 kB)\n",
            "Collecting spacy-legacy<3.1.0,>=3.0.8\n",
            "  Downloading spacy_legacy-3.0.8-py2.py3-none-any.whl (14 kB)\n",
            "Requirement already satisfied: packaging>=20.0 in /usr/local/lib/python3.7/dist-packages (from spacy) (21.0)\n",
            "Collecting thinc<8.1.0,>=8.0.9\n",
            "  Downloading thinc-8.0.10-cp37-cp37m-manylinux_2_17_x86_64.manylinux2014_x86_64.whl (623 kB)\n",
            "\u001b[K     |████████████████████████████████| 623 kB 54.3 MB/s \n",
            "\u001b[?25hRequirement already satisfied: numpy>=1.15.0 in /usr/local/lib/python3.7/dist-packages (from spacy) (1.19.5)\n",
            "Requirement already satisfied: tqdm<5.0.0,>=4.38.0 in /usr/local/lib/python3.7/dist-packages (from spacy) (4.62.3)\n",
            "Requirement already satisfied: wasabi<1.1.0,>=0.8.1 in /usr/local/lib/python3.7/dist-packages (from spacy) (0.8.2)\n",
            "Collecting pydantic!=1.8,!=1.8.1,<1.9.0,>=1.7.4\n",
            "  Downloading pydantic-1.8.2-cp37-cp37m-manylinux2014_x86_64.whl (10.1 MB)\n",
            "\u001b[K     |████████████████████████████████| 10.1 MB 34.3 MB/s \n",
            "\u001b[?25hRequirement already satisfied: typing-extensions<4.0.0.0,>=3.7.4 in /usr/local/lib/python3.7/dist-packages (from spacy) (3.7.4.3)\n",
            "Requirement already satisfied: murmurhash<1.1.0,>=0.28.0 in /usr/local/lib/python3.7/dist-packages (from spacy) (1.0.5)\n",
            "Requirement already satisfied: requests<3.0.0,>=2.13.0 in /usr/local/lib/python3.7/dist-packages (from spacy) (2.23.0)\n",
            "Requirement already satisfied: setuptools in /usr/local/lib/python3.7/dist-packages (from spacy) (57.4.0)\n",
            "Requirement already satisfied: blis<0.8.0,>=0.4.0 in /usr/local/lib/python3.7/dist-packages (from spacy) (0.4.1)\n",
            "Requirement already satisfied: jinja2 in /usr/local/lib/python3.7/dist-packages (from spacy) (2.11.3)\n",
            "Requirement already satisfied: zipp>=0.5 in /usr/local/lib/python3.7/dist-packages (from catalogue<2.1.0,>=2.0.6->spacy) (3.5.0)\n",
            "Requirement already satisfied: pyparsing>=2.0.2 in /usr/local/lib/python3.7/dist-packages (from packaging>=20.0->spacy) (2.4.7)\n",
            "Requirement already satisfied: smart-open<6.0.0,>=5.0.0 in /usr/local/lib/python3.7/dist-packages (from pathy>=0.3.5->spacy) (5.2.1)\n",
            "Requirement already satisfied: urllib3!=1.25.0,!=1.25.1,<1.26,>=1.21.1 in /usr/local/lib/python3.7/dist-packages (from requests<3.0.0,>=2.13.0->spacy) (1.24.3)\n",
            "Requirement already satisfied: chardet<4,>=3.0.2 in /usr/local/lib/python3.7/dist-packages (from requests<3.0.0,>=2.13.0->spacy) (3.0.4)\n",
            "Requirement already satisfied: certifi>=2017.4.17 in /usr/local/lib/python3.7/dist-packages (from requests<3.0.0,>=2.13.0->spacy) (2021.5.30)\n",
            "Requirement already satisfied: idna<3,>=2.5 in /usr/local/lib/python3.7/dist-packages (from requests<3.0.0,>=2.13.0->spacy) (2.10)\n",
            "Requirement already satisfied: click<9.0.0,>=7.1.1 in /usr/local/lib/python3.7/dist-packages (from typer<0.5.0,>=0.3.0->spacy) (7.1.2)\n",
            "Requirement already satisfied: MarkupSafe>=0.23 in /usr/local/lib/python3.7/dist-packages (from jinja2->spacy) (2.0.1)\n",
            "Installing collected packages: catalogue, typer, srsly, pydantic, thinc, spacy-legacy, pathy, spacy\n",
            "  Attempting uninstall: catalogue\n",
            "    Found existing installation: catalogue 1.0.0\n",
            "    Uninstalling catalogue-1.0.0:\n",
            "      Successfully uninstalled catalogue-1.0.0\n",
            "  Attempting uninstall: srsly\n",
            "    Found existing installation: srsly 1.0.5\n",
            "    Uninstalling srsly-1.0.5:\n",
            "      Successfully uninstalled srsly-1.0.5\n",
            "  Attempting uninstall: thinc\n",
            "    Found existing installation: thinc 7.4.0\n",
            "    Uninstalling thinc-7.4.0:\n",
            "      Successfully uninstalled thinc-7.4.0\n",
            "  Attempting uninstall: spacy\n",
            "    Found existing installation: spacy 2.2.4\n",
            "    Uninstalling spacy-2.2.4:\n",
            "      Successfully uninstalled spacy-2.2.4\n",
            "Successfully installed catalogue-2.0.6 pathy-0.6.0 pydantic-1.8.2 spacy-3.1.3 spacy-legacy-3.0.8 srsly-2.4.1 thinc-8.0.10 typer-0.4.0\n"
          ]
        },
        {
          "output_type": "display_data",
          "data": {
            "application/vnd.colab-display-data+json": {
              "pip_warning": {
                "packages": [
                  "catalogue",
                  "spacy",
                  "srsly",
                  "thinc"
                ]
              }
            }
          },
          "metadata": {}
        },
        {
          "output_type": "stream",
          "name": "stdout",
          "text": [
            "Collecting spacy-lookups-data\n",
            "  Downloading spacy_lookups_data-1.0.3-py2.py3-none-any.whl (98.5 MB)\n",
            "\u001b[K     |████████████████████████████████| 98.5 MB 33 kB/s \n",
            "\u001b[?25hRequirement already satisfied: setuptools in /usr/local/lib/python3.7/dist-packages (from spacy-lookups-data) (57.4.0)\n",
            "Installing collected packages: spacy-lookups-data\n",
            "Successfully installed spacy-lookups-data-1.0.3\n",
            "Collecting en-core-web-sm==3.1.0\n",
            "  Downloading https://github.com/explosion/spacy-models/releases/download/en_core_web_sm-3.1.0/en_core_web_sm-3.1.0-py3-none-any.whl (13.6 MB)\n",
            "\u001b[K     |████████████████████████████████| 13.6 MB 79 kB/s \n",
            "\u001b[?25hRequirement already satisfied: spacy<3.2.0,>=3.1.0 in /usr/local/lib/python3.7/dist-packages (from en-core-web-sm==3.1.0) (3.1.3)\n",
            "Requirement already satisfied: pydantic!=1.8,!=1.8.1,<1.9.0,>=1.7.4 in /usr/local/lib/python3.7/dist-packages (from spacy<3.2.0,>=3.1.0->en-core-web-sm==3.1.0) (1.8.2)\n",
            "Requirement already satisfied: packaging>=20.0 in /usr/local/lib/python3.7/dist-packages (from spacy<3.2.0,>=3.1.0->en-core-web-sm==3.1.0) (21.0)\n",
            "Requirement already satisfied: requests<3.0.0,>=2.13.0 in /usr/local/lib/python3.7/dist-packages (from spacy<3.2.0,>=3.1.0->en-core-web-sm==3.1.0) (2.23.0)\n",
            "Requirement already satisfied: murmurhash<1.1.0,>=0.28.0 in /usr/local/lib/python3.7/dist-packages (from spacy<3.2.0,>=3.1.0->en-core-web-sm==3.1.0) (1.0.5)\n",
            "Requirement already satisfied: spacy-legacy<3.1.0,>=3.0.8 in /usr/local/lib/python3.7/dist-packages (from spacy<3.2.0,>=3.1.0->en-core-web-sm==3.1.0) (3.0.8)\n",
            "Requirement already satisfied: tqdm<5.0.0,>=4.38.0 in /usr/local/lib/python3.7/dist-packages (from spacy<3.2.0,>=3.1.0->en-core-web-sm==3.1.0) (4.62.3)\n",
            "Requirement already satisfied: typer<0.5.0,>=0.3.0 in /usr/local/lib/python3.7/dist-packages (from spacy<3.2.0,>=3.1.0->en-core-web-sm==3.1.0) (0.4.0)\n",
            "Requirement already satisfied: pathy>=0.3.5 in /usr/local/lib/python3.7/dist-packages (from spacy<3.2.0,>=3.1.0->en-core-web-sm==3.1.0) (0.6.0)\n",
            "Requirement already satisfied: setuptools in /usr/local/lib/python3.7/dist-packages (from spacy<3.2.0,>=3.1.0->en-core-web-sm==3.1.0) (57.4.0)\n",
            "Requirement already satisfied: typing-extensions<4.0.0.0,>=3.7.4 in /usr/local/lib/python3.7/dist-packages (from spacy<3.2.0,>=3.1.0->en-core-web-sm==3.1.0) (3.7.4.3)\n",
            "Requirement already satisfied: catalogue<2.1.0,>=2.0.6 in /usr/local/lib/python3.7/dist-packages (from spacy<3.2.0,>=3.1.0->en-core-web-sm==3.1.0) (2.0.6)\n",
            "Requirement already satisfied: numpy>=1.15.0 in /usr/local/lib/python3.7/dist-packages (from spacy<3.2.0,>=3.1.0->en-core-web-sm==3.1.0) (1.19.5)\n",
            "Requirement already satisfied: thinc<8.1.0,>=8.0.9 in /usr/local/lib/python3.7/dist-packages (from spacy<3.2.0,>=3.1.0->en-core-web-sm==3.1.0) (8.0.10)\n",
            "Requirement already satisfied: blis<0.8.0,>=0.4.0 in /usr/local/lib/python3.7/dist-packages (from spacy<3.2.0,>=3.1.0->en-core-web-sm==3.1.0) (0.4.1)\n",
            "Requirement already satisfied: cymem<2.1.0,>=2.0.2 in /usr/local/lib/python3.7/dist-packages (from spacy<3.2.0,>=3.1.0->en-core-web-sm==3.1.0) (2.0.5)\n",
            "Requirement already satisfied: wasabi<1.1.0,>=0.8.1 in /usr/local/lib/python3.7/dist-packages (from spacy<3.2.0,>=3.1.0->en-core-web-sm==3.1.0) (0.8.2)\n",
            "Requirement already satisfied: jinja2 in /usr/local/lib/python3.7/dist-packages (from spacy<3.2.0,>=3.1.0->en-core-web-sm==3.1.0) (2.11.3)\n",
            "Requirement already satisfied: preshed<3.1.0,>=3.0.2 in /usr/local/lib/python3.7/dist-packages (from spacy<3.2.0,>=3.1.0->en-core-web-sm==3.1.0) (3.0.5)\n",
            "Requirement already satisfied: srsly<3.0.0,>=2.4.1 in /usr/local/lib/python3.7/dist-packages (from spacy<3.2.0,>=3.1.0->en-core-web-sm==3.1.0) (2.4.1)\n",
            "Requirement already satisfied: zipp>=0.5 in /usr/local/lib/python3.7/dist-packages (from catalogue<2.1.0,>=2.0.6->spacy<3.2.0,>=3.1.0->en-core-web-sm==3.1.0) (3.5.0)\n",
            "Requirement already satisfied: pyparsing>=2.0.2 in /usr/local/lib/python3.7/dist-packages (from packaging>=20.0->spacy<3.2.0,>=3.1.0->en-core-web-sm==3.1.0) (2.4.7)\n",
            "Requirement already satisfied: smart-open<6.0.0,>=5.0.0 in /usr/local/lib/python3.7/dist-packages (from pathy>=0.3.5->spacy<3.2.0,>=3.1.0->en-core-web-sm==3.1.0) (5.2.1)\n",
            "Requirement already satisfied: certifi>=2017.4.17 in /usr/local/lib/python3.7/dist-packages (from requests<3.0.0,>=2.13.0->spacy<3.2.0,>=3.1.0->en-core-web-sm==3.1.0) (2021.5.30)\n",
            "Requirement already satisfied: idna<3,>=2.5 in /usr/local/lib/python3.7/dist-packages (from requests<3.0.0,>=2.13.0->spacy<3.2.0,>=3.1.0->en-core-web-sm==3.1.0) (2.10)\n",
            "Requirement already satisfied: chardet<4,>=3.0.2 in /usr/local/lib/python3.7/dist-packages (from requests<3.0.0,>=2.13.0->spacy<3.2.0,>=3.1.0->en-core-web-sm==3.1.0) (3.0.4)\n",
            "Requirement already satisfied: urllib3!=1.25.0,!=1.25.1,<1.26,>=1.21.1 in /usr/local/lib/python3.7/dist-packages (from requests<3.0.0,>=2.13.0->spacy<3.2.0,>=3.1.0->en-core-web-sm==3.1.0) (1.24.3)\n",
            "Requirement already satisfied: click<9.0.0,>=7.1.1 in /usr/local/lib/python3.7/dist-packages (from typer<0.5.0,>=0.3.0->spacy<3.2.0,>=3.1.0->en-core-web-sm==3.1.0) (7.1.2)\n",
            "Requirement already satisfied: MarkupSafe>=0.23 in /usr/local/lib/python3.7/dist-packages (from jinja2->spacy<3.2.0,>=3.1.0->en-core-web-sm==3.1.0) (2.0.1)\n",
            "Installing collected packages: en-core-web-sm\n",
            "  Attempting uninstall: en-core-web-sm\n",
            "    Found existing installation: en-core-web-sm 2.2.5\n",
            "    Uninstalling en-core-web-sm-2.2.5:\n",
            "      Successfully uninstalled en-core-web-sm-2.2.5\n",
            "Successfully installed en-core-web-sm-3.1.0\n",
            "\u001b[38;5;2m✔ Download and installation successful\u001b[0m\n",
            "You can now load the package via spacy.load('en_core_web_sm')\n"
          ]
        }
      ]
    },
    {
      "cell_type": "code",
      "metadata": {
        "id": "ICBi3bt5XnNL"
      },
      "source": [
        "from spacy.matcher import  Matcher\n",
        "import re\n",
        "matcher = Matcher(nlp.vocab)\n",
        "matcher.add(\"Phone Number\", None, pattern)\n"
      ],
      "execution_count": 129,
      "outputs": []
    },
    {
      "cell_type": "code",
      "metadata": {
        "id": "tmfyB3Y_bWJA"
      },
      "source": [
        "doc = nlp.model(train_data[0][0])"
      ],
      "execution_count": 130,
      "outputs": []
    },
    {
      "cell_type": "code",
      "metadata": {
        "colab": {
          "base_uri": "https://localhost:8080/"
        },
        "id": "9OcmO-awbknQ",
        "outputId": "4cdd2cf3-35ad-4476-c352-87e3dfe6df4a"
      },
      "source": [
        "print([t.text for t in doc])"
      ],
      "execution_count": 131,
      "outputs": [
        {
          "output_type": "stream",
          "name": "stdout",
          "text": [
            "['Siddharth', 'Choudhary', 'Microsoft', 'Office', 'Suite', '-', 'Expert', ' ', 'Hyderabad', ',', 'Telangana', '-', 'Email', 'me', 'on', 'Indeed', ':', 'indeed.com/r/Siddharth-', 'Choudhary/19d56a964e37fa1a', ' ', 'Goal', 'oriented', 'finance', 'professional', 'with', 'a', 'great', 'aptitude', 'to', 'learn', '.', 'Dedicated', 'to', 'CONTACT', 'meeting', 'aggressive', '/', 'challenging', 'business', 'goals', '.', 'Logically', 'strong', 'with', 'good', 'knowledge', 'in', 'financial', 'management', ',', 'tax', ',', 'audit', ',', 'and', 'computers', '.', 'choudharysiddharth22@gmail.com', ' ', 'During', 'my', 'training', '/', 'articleship', 'period', ',', 'I', 'have', 'learnt', 'how', 'to', 'analyse', 'business', '[', '…', ']', '[', '…', ']', 'cycles', '/', 'operations', 'and', 'conduct', 'risk', 'analysis', 'and', 'further', 'audit', 'procedures', 'www.linkedin.com/in/Sid-', 'based', 'on', 'the', 'risk', 'analysis', '.', 'Choudhary', ' ', 'WORK', 'EXPERIENCE', ' ', 'Microsoft', 'Office', 'Suite', '-', 'Expert', ' ', 'Tally', 'ERP', '-', 'Intermediate', 'SQL', ',', 'Chartered', '-', ' ', '2013', 'to', '2017', ' ', 'ICAI', '464/800', 'Accountancy', ' ', 'EDUCATION', ' ', 'Score', ' ', 'SKILLS', ' ', 'AUDITING', '(', 'Less', 'than', '1', 'year', ')', ',', 'CFA', '(', 'Less', 'than', '1', 'year', ')', ',', 'DERIVATIVES', '(', 'Less', 'than', '1', 'year', ')', ',', 'FINANCIAL', 'ANALYST', '(', 'Less', 'than', '1', 'year', ')', ',', 'FINANCIAL', 'STATEMENT', 'ANALYSIS', '(', 'Less', 'than', '1', 'year', ')', ' ', 'ADDITIONAL', 'INFORMATION', ' ', 'CORE', 'COMPETENCIES', ' ', '212', ',', 'Shri', 'Gayathri', 'Elegant', ',', 'Karkhana', ',', 'Sec', '-', 'bad', '.', 'Portfolio', 'management', 'strategies', 'Auditing', '(', 'Statutory', ')', 'Derivatives', 'and', 'Swaps', 'Financial', 'statement', 'analysis', 'Consolidation', 'Ratio', '/', 'Trend', 'Analysis', ' ', 'COMPUTER', 'SKILLS', '2017-', 'Chartered', 'Level', '1', '-', 'CFA', '(', 'US', ')', ' ', 'https://www.indeed.com/r/Siddharth-Choudhary/19d56a964e37fa1a?isid=rex-download&ikw=download-top&co=IN', 'https://www.indeed.com/r/Siddharth-Choudhary/19d56a964e37fa1a?isid=rex-download&ikw=download-top&co=IN', '  ', 'Present', 'Financial', 'Analyst', 'Cleared']\n"
          ]
        }
      ]
    },
    {
      "cell_type": "code",
      "metadata": {
        "colab": {
          "base_uri": "https://localhost:8080/"
        },
        "id": "FKRu0Opkby-e",
        "outputId": "86f3ec4a-d86f-46aa-cc83-3fe22e466ff7"
      },
      "source": [
        "matches = matcher(doc)\n",
        "matches"
      ],
      "execution_count": 132,
      "outputs": [
        {
          "output_type": "execute_result",
          "data": {
            "text/plain": [
              "[]"
            ]
          },
          "metadata": {},
          "execution_count": 132
        }
      ]
    },
    {
      "cell_type": "code",
      "metadata": {
        "id": "CLA1Zzjxb7Ld"
      },
      "source": [
        "for match_id, start, end in matches:\n",
        "  span = doc[start:end]\n",
        "  print(span.text)"
      ],
      "execution_count": 133,
      "outputs": []
    },
    {
      "cell_type": "code",
      "metadata": {
        "id": "xvVZJivhcZEn"
      },
      "source": [
        "pattern = [{\"TEXT\" : {\"REGEX\":\"[a-zA-Z0-9-_.] +@[a-zA-Z0-9-_.]+\"}}]\n"
      ],
      "execution_count": 134,
      "outputs": []
    },
    {
      "cell_type": "code",
      "metadata": {
        "id": "oAOB0ZkrlXBX"
      },
      "source": [
        "matcher = Matcher(nlp.vocab)\n",
        "matcher.add(\"Email\", None, pattern)"
      ],
      "execution_count": 135,
      "outputs": []
    },
    {
      "cell_type": "code",
      "metadata": {
        "id": "L3AyazMDkRlb"
      },
      "source": [
        "text = (\"Email me in the mail address choudharysiddharth.22@gmail.com and new hytyd\")"
      ],
      "execution_count": 136,
      "outputs": []
    },
    {
      "cell_type": "code",
      "metadata": {
        "id": "XlobfnCahriJ"
      },
      "source": [
        "doc3 = nlp(text)"
      ],
      "execution_count": 137,
      "outputs": []
    },
    {
      "cell_type": "code",
      "metadata": {
        "colab": {
          "base_uri": "https://localhost:8080/"
        },
        "id": "nmU69tAqmkpr",
        "outputId": "f550446d-3d7f-4fa2-a04c-f8a376358713"
      },
      "source": [
        "print([t.text for t in doc3])"
      ],
      "execution_count": 138,
      "outputs": [
        {
          "output_type": "stream",
          "name": "stdout",
          "text": [
            "['Email', 'me', 'in', 'the', 'mail', 'address', 'choudharysiddharth.22@gmail.com', 'and', 'new', 'hytyd']\n"
          ]
        }
      ]
    },
    {
      "cell_type": "code",
      "metadata": {
        "id": "-JH1z6d1lEZb"
      },
      "source": [
        "matches = matcher(doc3)"
      ],
      "execution_count": 139,
      "outputs": []
    },
    {
      "cell_type": "code",
      "metadata": {
        "colab": {
          "base_uri": "https://localhost:8080/"
        },
        "id": "SGpotigalLuU",
        "outputId": "c1e4aee3-8db5-4b60-f40a-5342ac1d5250"
      },
      "source": [
        "matches"
      ],
      "execution_count": 140,
      "outputs": [
        {
          "output_type": "execute_result",
          "data": {
            "text/plain": [
              "[]"
            ]
          },
          "metadata": {},
          "execution_count": 140
        }
      ]
    },
    {
      "cell_type": "code",
      "metadata": {
        "id": "XFDz5L_9jmNf"
      },
      "source": [
        "for match_id, start, end in matches:\n",
        "  span = doc3[start:end]\n",
        "  print(span.text) "
      ],
      "execution_count": 142,
      "outputs": []
    },
    {
      "cell_type": "code",
      "metadata": {
        "colab": {
          "base_uri": "https://localhost:8080/"
        },
        "id": "ityTSXnFoRmz",
        "outputId": "e7385198-d90c-473e-9a5c-854062098a59"
      },
      "source": [
        "!pip install PyMuPDF\n"
      ],
      "execution_count": 143,
      "outputs": [
        {
          "output_type": "stream",
          "name": "stdout",
          "text": [
            "Collecting PyMuPDF\n",
            "  Downloading PyMuPDF-1.18.19-cp37-cp37m-manylinux_2_12_x86_64.manylinux2010_x86_64.whl (6.4 MB)\n",
            "\u001b[K     |████████████████████████████████| 6.4 MB 7.1 MB/s \n",
            "\u001b[?25hInstalling collected packages: PyMuPDF\n",
            "Successfully installed PyMuPDF-1.18.19\n"
          ]
        }
      ]
    },
    {
      "cell_type": "code",
      "metadata": {
        "colab": {
          "base_uri": "https://localhost:8080/"
        },
        "id": "Gh85UunxonzV",
        "outputId": "41e60d23-97ae-459c-ec9d-eaf38f81c093"
      },
      "source": [
        "import sys, fitz\n",
        "file_name = input(\"Enter the file path:\")\n",
        "pdf_file = fitz.open(file_name)\n",
        "text = \"\"\n",
        "for page in pdf_file:\n",
        "  text = text + str(page.getText())\n",
        "\n",
        "\n",
        "tx = \" \".join(text.split('\\n'))\n",
        "print(tx)"
      ],
      "execution_count": 146,
      "outputs": [
        {
          "output_type": "stream",
          "name": "stdout",
          "text": [
            "Enter the file path:/content/Alice Clark CV.pdf\n",
            "Alice Clark  AI / Machine Learning    Delhi, India Email me on Indeed  •  20+ years of experience in data handling, design, and development  •  Data Warehouse: Data analysis, star/snow flake scema data modelling and design specific to  data warehousing and business intelligence  •  Database: Experience in database designing, scalability, back-up and recovery, writing and  optimizing SQL code and Stored Procedures, creating functions, views, triggers and indexes.  Cloud platform: Worked on Microsoft Azure cloud services like Document DB, SQL Azure,  Stream Analytics, Event hub, Power BI, Web Job, Web App, Power BI, Azure data lake  analytics(U-SQL)  Willing to relocate anywhere    WORK EXPERIENCE  Software Engineer  Microsoft – Bangalore, Karnataka  January 2000 to Present  1. Microsoft Rewards Live dashboards:  Description: - Microsoft rewards is loyalty program that rewards Users for browsing and shopping  online. Microsoft Rewards members can earn points when searching with Bing, browsing with  Microsoft Edge and making purchases at the Xbox Store, the Windows Store and the Microsoft  Store. Plus, user can pick up bonus points for taking daily quizzes and tours on the Microsoft  rewards website. Rewards live dashboards gives a live picture of usage world-wide and by  markets like US, Canada, Australia, new user registration count, top/bottom performing rewards  offers, orders stats and weekly trends of user activities, orders and new user registrations. the  PBI tiles gets refreshed in different frequencies starting from 5 seconds to 30 minutes.  Technology/Tools used    EDUCATION  Indian Institute of Technology – Mumbai  2001    SKILLS  Machine Learning, Natural Language Processing, and Big Data Handling    ADDITIONAL INFORMATION  Professional Skills  • Excellent analytical, problem solving, communication, knowledge transfer and interpersonal  skills with ability to interact with individuals at all the levels  • Quick learner and maintains cordial relationship with project manager and team members and  good performer both in team and independent job environments  • Positive attitude towards superiors &amp; peers  • Supervised junior developers throughout project lifecycle and provided technical assistance  \n"
          ]
        }
      ]
    },
    {
      "cell_type": "code",
      "metadata": {
        "colab": {
          "base_uri": "https://localhost:8080/"
        },
        "id": "aifzTTFkqCYU",
        "outputId": "9dc2e968-90ee-43b5-d2ae-3eda5fc26319"
      },
      "source": [
        "file = nlp.model(tx)\n",
        "for ent in file.ents:\n",
        "  print(f'{ent.label_.upper():{30}}- {ent.text}')"
      ],
      "execution_count": 147,
      "outputs": [
        {
          "output_type": "stream",
          "name": "stdout",
          "text": [
            "NAME                          - Alice Clark\n",
            "DESIGNATION                   - AI / Machine Learning\n",
            "DESIGNATION                   - Software Engineer\n",
            "COLLEGE NAME                  - Indian Institute of Technology – Mumbai\n",
            "SKILLS                        - Machine Learning, Natural Language Processing, and Big Data Handling\n"
          ]
        }
      ]
    }
  ]
}