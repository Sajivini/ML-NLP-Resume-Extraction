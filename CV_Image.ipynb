{
  "nbformat": 4,
  "nbformat_minor": 0,
  "metadata": {
    "colab": {
      "name": "CV-Image.ipynb",
      "provenance": []
    },
    "kernelspec": {
      "name": "python3",
      "display_name": "Python 3"
    },
    "language_info": {
      "name": "python"
    }
  },
  "cells": [
    {
      "cell_type": "code",
      "metadata": {
        "id": "_ul3UPEPugBt",
        "colab": {
          "base_uri": "https://localhost:8080/"
        },
        "outputId": "581a071e-2974-4ca5-fee9-179e38b9b648"
      },
      "source": [
        "!pip install PyMUPDF"
      ],
      "execution_count": null,
      "outputs": [
        {
          "output_type": "stream",
          "name": "stdout",
          "text": [
            "Collecting PyMUPDF\n",
            "  Downloading PyMuPDF-1.18.19-cp37-cp37m-manylinux_2_12_x86_64.manylinux2010_x86_64.whl (6.4 MB)\n",
            "\u001b[K     |████████████████████████████████| 6.4 MB 3.7 MB/s \n",
            "\u001b[?25hInstalling collected packages: PyMUPDF\n",
            "Successfully installed PyMUPDF-1.18.19\n"
          ]
        }
      ]
    },
    {
      "cell_type": "code",
      "metadata": {
        "id": "kNFZE7-F5KAU"
      },
      "source": [
        " import fitz"
      ],
      "execution_count": null,
      "outputs": []
    },
    {
      "cell_type": "code",
      "metadata": {
        "colab": {
          "base_uri": "https://localhost:8080/"
        },
        "id": "4ImoY0eT5fyq",
        "outputId": "1aef17aa-d939-4756-fe9a-2816ddb3d4a7"
      },
      "source": [
        "file_path= fitz.open(input(\"Please enter the file path:\"))\n",
        "page = len(file_path)\n"
      ],
      "execution_count": null,
      "outputs": [
        {
          "name": "stdout",
          "output_type": "stream",
          "text": [
            "Please enter the file path:/content/SajiviniCV.pdf\n"
          ]
        }
      ]
    },
    {
      "cell_type": "code",
      "metadata": {
        "id": "EvhezQAD7mNA"
      },
      "source": [
        " for i in range(page):\n",
        "   for image in file_path.getPageImageList(i):\n",
        "     j = 0\n",
        "     customxref = image[0]\n",
        "     pic = fitz.Pixmap(file_path, customxref)\n",
        "     finalpic = fitz.Pixmap(fitz.csRGB,pic)\n",
        "     finalpic.writePNG(str(i)+\"_\"+str(j)+\".jpg\")\n",
        "     pic = None\n",
        "     finalpic = None\n",
        "\n"
      ],
      "execution_count": null,
      "outputs": []
    },
    {
      "cell_type": "code",
      "metadata": {
        "colab": {
          "base_uri": "https://localhost:8080/"
        },
        "id": "WiPINyQE-yKT",
        "outputId": "1e275e60-c3de-4007-fbad-1d71ec64a19a"
      },
      "source": [
        "file_path.getPageImageList(0)"
      ],
      "execution_count": null,
      "outputs": [
        {
          "output_type": "execute_result",
          "data": {
            "text/plain": [
              "[(20, 0, 271, 232, 8, 'DeviceRGB', '', 'Image20', 'DCTDecode')]"
            ]
          },
          "metadata": {},
          "execution_count": 6
        }
      ]
    }
  ]
}